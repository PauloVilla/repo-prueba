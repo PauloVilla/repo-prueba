{
 "cells": [
  {
   "cell_type": "markdown",
   "id": "7fc8f014",
   "metadata": {},
   "source": [
    "Paulo Adrián Villa Domínguez\n",
    "---\n",
    "Tengo 20 años\n",
    "\n",
    "Nací el 27 de enero del 2002\n",
    "\n",
    "Me gusta jugar futbol e ir al Gym."
   ]
  },
  {
   "cell_type": "markdown",
   "id": "eb588e42",
   "metadata": {},
   "source": [
    "# Gaticos funciones de git"
   ]
  },
  {
   "cell_type": "markdown",
   "id": "47983f59",
   "metadata": {},
   "source": [
    "\n",
    "## Git pull (gaticos)\n",
    "\n",
    "no alcancé jaja"
   ]
  },
  {
   "cell_type": "code",
   "execution_count": 5,
   "id": "0906d980",
   "metadata": {},
   "outputs": [],
   "source": [
    "def add_names(first_name, last_name):\n",
    "    return f\"Mi nombre completo es: {first_name +' '+last_name}\""
   ]
  },
  {
   "cell_type": "code",
   "execution_count": 6,
   "id": "a5a39aa1",
   "metadata": {},
   "outputs": [
    {
     "data": {
      "text/plain": [
       "'Mi nombre completo es: Paulo Adrián Villa Domínguez'"
      ]
     },
     "execution_count": 6,
     "metadata": {},
     "output_type": "execute_result"
    }
   ],
   "source": [
    "first_name = \"Paulo Adrián\"\n",
    "last_name = \"Villa Domínguez\"\n",
    "add_names(first_name, last_name)"
   ]
  }
 ],
 "metadata": {
  "kernelspec": {
   "display_name": "Python 3",
   "language": "python",
   "name": "python3"
  },
  "language_info": {
   "codemirror_mode": {
    "name": "ipython",
    "version": 3
   },
   "file_extension": ".py",
   "mimetype": "text/x-python",
   "name": "python",
   "nbconvert_exporter": "python",
   "pygments_lexer": "ipython3",
   "version": "3.8.8"
  }
 },
 "nbformat": 4,
 "nbformat_minor": 5
}
