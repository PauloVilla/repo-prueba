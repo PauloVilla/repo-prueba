{
 "cells": [
  {
   "cell_type": "markdown",
   "id": "45e233b1",
   "metadata": {},
   "source": [
    "Paulo Adrián Villa Domínguez\n",
    "---\n",
    "Tengo 20 años\n",
    "\n",
    "Nací el 27 de enero del 2002\n",
    "\n",
    "Me gusta jugar futbol e ir al Gym."
   ]
  },
  {
   "cell_type": "markdown",
   "id": "be86b57d",
   "metadata": {},
   "source": [
    "##"
   ]
  }
 ],
 "metadata": {
  "kernelspec": {
   "display_name": "Python 3",
   "language": "python",
   "name": "python3"
  },
  "language_info": {
   "codemirror_mode": {
    "name": "ipython",
    "version": 3
   },
   "file_extension": ".py",
   "mimetype": "text/x-python",
   "name": "python",
   "nbconvert_exporter": "python",
   "pygments_lexer": "ipython3",
   "version": "3.8.8"
  }
 },
 "nbformat": 4,
 "nbformat_minor": 5
}
